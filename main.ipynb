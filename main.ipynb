{
 "cells": [
  {
   "cell_type": "code",
   "execution_count": 29,
   "metadata": {},
   "outputs": [],
   "source": [
    "import os\n",
    "import re"
   ]
  },
  {
   "cell_type": "code",
   "execution_count": 30,
   "metadata": {},
   "outputs": [],
   "source": [
    "DATA_DIR = os.path.join(os.path.abspath(\".\"), \"data\")\n",
    "TRAIN_DIR = os.path.join(DATA_DIR, \"train\")\n",
    "TEST_DIR = os.path.join(DATA_DIR, \"test\")"
   ]
  },
  {
   "cell_type": "code",
   "execution_count": 31,
   "metadata": {},
   "outputs": [
    {
     "name": "stdout",
     "output_type": "stream",
     "text": [
      "Number of train features: 0\n",
      "Number of train masks: 0\n"
     ]
    }
   ],
   "source": [
    "train_features = [f for f in os.listdir(TRAIN_DIR) if f.endswith(\".png\") and not f.endswith(\"_GT.png\")]\n",
    "train_masks = [f for f in os.listdir(TRAIN_DIR) if f.endswith(\"_GT.png\")]\n",
    "\n",
    "print(\"Number of train features:\", len(train_features))\n",
    "print(\"Number of train masks:\", len(train_masks))"
   ]
  },
  {
   "cell_type": "code",
   "execution_count": 32,
   "metadata": {},
   "outputs": [
    {
     "data": {
      "text/plain": [
       "[]"
      ]
     },
     "execution_count": 32,
     "metadata": {},
     "output_type": "execute_result"
    }
   ],
   "source": [
    "# dataset contains one copied sample with (copy) in name -> identify and remove\n",
    "[i for i in train_features if i.split(\".\")[0] + \"_GT.png\" not in train_masks]"
   ]
  },
  {
   "cell_type": "markdown",
   "metadata": {},
   "source": [
    "## Organizing Directories\n",
    "current structure:  `data/train` & `data/test`\n",
    "\n",
    "split both train and test based on whether they are defective or not\n",
    "\n",
    "i.e `data/*/defect` & `data/*/no_defect`"
   ]
  },
  {
   "cell_type": "code",
   "execution_count": 33,
   "metadata": {},
   "outputs": [],
   "source": [
    "from PIL import Image\n",
    "import numpy as np"
   ]
  },
  {
   "cell_type": "code",
   "execution_count": 34,
   "metadata": {},
   "outputs": [],
   "source": [
    "def split_defective(dirname):\n",
    "    images = [f.split(\".\")[0] for f in os.listdir(dirname) if f.endswith(\".png\") and not f.endswith(\"_GT.png\")]\n",
    "    for img in images:\n",
    "        mask = np.array(Image.open(os.path.join(dirname, img + \"_GT.png\")))\n",
    "        if mask.sum() > 0:\n",
    "            os.rename(os.path.join(dirname, img + \".png\"),os.path.join(dirname, \"defect\", img + \".png\"))\n",
    "            os.rename(os.path.join(dirname, img + \"_GT.png\"),os.path.join(dirname, \"defect\", img + \"_GT.png\"))\n",
    "        else:\n",
    "            os.rename(os.path.join(dirname, img + \".png\"),os.path.join(dirname, \"no_defect\", img + \".png\"))\n",
    "            os.rename(os.path.join(dirname, img + \"_GT.png\"),os.path.join(dirname, \"no_defect\", img + \"_GT.png\"))"
   ]
  },
  {
   "cell_type": "code",
   "execution_count": 35,
   "metadata": {},
   "outputs": [],
   "source": [
    "split_defective(TRAIN_DIR)"
   ]
  },
  {
   "cell_type": "code",
   "execution_count": 36,
   "metadata": {},
   "outputs": [
    {
     "name": "stdout",
     "output_type": "stream",
     "text": [
      "Number of defective images in TRAIN: 246\n",
      "Number of non-defective images in TRAIN: 894\n",
      "Number of defective images in TEST: 110\n",
      "Number of non-defective images in TEST: 894\n"
     ]
    }
   ],
   "source": [
    "num_train_defect = len([f for f in os.listdir(TRAIN_DIR + \"\\\\defect\") if not f.endswith(\"_GT.png\")])\n",
    "num_train_no_defect = len([f for f in os.listdir(TRAIN_DIR + \"\\\\no_defect\") if not f.endswith(\"_GT.png\")])\n",
    "\n",
    "num_test_defect = len([f for f in os.listdir(TEST_DIR + \"\\\\defect\") if not f.endswith(\"_GT.png\")])\n",
    "num_test_no_defect = len([f for f in os.listdir(TEST_DIR + \"\\\\no_defect\") if not f.endswith(\"_GT.png\")])\n",
    "\n",
    "print(\"Number of defective images in TRAIN:\", num_train_defect)\n",
    "print(\"Number of non-defective images in TRAIN:\", num_test_no_defect)\n",
    "print(\"Number of defective images in TEST:\", num_test_defect)\n",
    "print(\"Number of non-defective images in TEST:\", num_test_no_defect)"
   ]
  },
  {
   "cell_type": "code",
   "execution_count": 37,
   "metadata": {},
   "outputs": [],
   "source": [
    "split_defective(TEST_DIR)"
   ]
  },
  {
   "cell_type": "markdown",
   "metadata": {},
   "source": [
    "## Configuring Data Loading"
   ]
  },
  {
   "cell_type": "code",
   "execution_count": 52,
   "metadata": {},
   "outputs": [],
   "source": [
    "import torch as t\n",
    "import torchvision.transforms as transforms\n",
    "from torch.utils.data import DataLoader, Dataset, WeightedRandomSampler\n",
    "from torch.utils.data.sampler import BatchSampler\n",
    "import random\n",
    "import matplotlib.pyplot as plt"
   ]
  },
  {
   "cell_type": "code",
   "execution_count": 39,
   "metadata": {},
   "outputs": [
    {
     "name": "stdout",
     "output_type": "stream",
     "text": [
      "cuda\n"
     ]
    }
   ],
   "source": [
    "device = t.device(\"cuda\" if t.cuda.is_available() else \"cpu\")\n",
    "print(device)"
   ]
  },
  {
   "cell_type": "code",
   "execution_count": 54,
   "metadata": {},
   "outputs": [],
   "source": [
    "class TripletDataset(Dataset):\n",
    "    def __init__(self, root_dir, model=None, transform=None):\n",
    "        self.root_dir = root_dir\n",
    "        self.transform = transform\n",
    "        # model to compute the embeddings with\n",
    "        self.model = model\n",
    "        self.image_paths = []\n",
    "        self.labels = []\n",
    "        \n",
    "        for label in os.listdir(root_dir):\n",
    "            label_dir = os.path.join(root_dir, label)\n",
    "            label_val = 1 if label == \"defect\" else 0\n",
    "            if os.path.isdir(label_dir):\n",
    "                img_list = [os.path.join(label_dir, img) for img in os.listdir(label_dir) if not img.endswith(\"_GT.png\")]\n",
    "                self.image_paths.extend(img_list)\n",
    "                self.labels.extend([label_val] * len(img_list)) \n",
    "\n",
    "        self.labels_to_indices = {}\n",
    "        for i, label in enumerate(self.labels):\n",
    "            if label not in self.labels_to_indices:\n",
    "                self.labels_to_indices[label] = []\n",
    "            self.labels_to_indices[label].append(i)\n",
    "        \n",
    "        self.labels_set = list(set(self.labels))\n",
    "            \n",
    "                \n",
    "    \n",
    "    def __getitem__(self, index):\n",
    "        img = Image.open(self.image_paths[index]).convert(\"RGB\")\n",
    "        if self.transform:\n",
    "            img = self.transform(img)\n",
    "        return img, self.labels[index], index\n",
    "    \n",
    "    def __len__(self):\n",
    "        return len(self.image_paths)\n",
    "                "
   ]
  },
  {
   "cell_type": "code",
   "execution_count": null,
   "metadata": {},
   "outputs": [],
   "source": [
    "def get_semi_hard_triplets(embeddings, labels, margin=0.2):\n",
    "    # get distances for each embedding to every other embedding \n",
    "    distance_matrix = t.cdist(embeddings, embeddings, p=2)\n",
    "    triplets = []\n",
    "    \n",
    "    for i in range(len(embeddings)):\n",
    "        \n",
    "        anchor_label = labels[i]\n",
    "        \n",
    "        # indicies of all samples with the same label as anchor (excluding the achor)\n",
    "        pos_indices = t.where(labels == anchor_label)[0].to(device)\n",
    "        pos_indices = pos_indices[pos_indices != i]\n",
    "        \n",
    "        if len(pos_indices) == 0:\n",
    "            continue\n",
    "        \n",
    "        # indicies of all samples with a different label as anchor\n",
    "        neg_indices = t.where(labels != anchor_label)[0].to(device)\n",
    "        if len(neg_indices) == 0:\n",
    "            continue\n",
    "        \n",
    "        # distances to all the positive samples\n",
    "        pos_distances = distance_matrix[i, pos_indices]\n",
    "        closest_pos_idx = pos_indices[t.argmin(pos_distances)] # index of closest positive\n",
    "        pos_distance = t.min(pos_distances) # distance of closest positive\n",
    "        \n",
    "        # distances to all negative samples\n",
    "        neg_distances = distance_matrix[i, neg_indices]\n",
    "        # semi-hard triplet constraint\n",
    "        # negative distance is greater than postive but negative is still within the margin\n",
    "        semi_hard_mask = (neg_distances > pos_distance) & (neg_distances < pos_distance + margin) \n",
    "\n",
    "        if t.sum(semi_hard_mask) > 0:\n",
    "            semi_hard_indices = neg_indices[semi_hard_mask]\n",
    "            neg_idx = semi_hard_indices[t.randint(0, len(semi_hard_indices), (1,))] # random negative from the masked set\n",
    "        else:\n",
    "            neg_idx = neg_indices[t.argmin(neg_distances)] # else closest negative\n",
    "        triplets.append((i, closest_pos_idx, neg_idx))\n",
    "    \n",
    "    return triplets"
   ]
  },
  {
   "cell_type": "code",
   "execution_count": 42,
   "metadata": {},
   "outputs": [],
   "source": [
    "def create_dataloader(dataset, batch_size):\n",
    "    class_counts = np.bincount(dataset.labels)\n",
    "    weights = 1.0 / class_counts[dataset.labels]\n",
    "\n",
    "    sampler = WeightedRandomSampler(weights, len(weights), replacement=True)\n",
    "\n",
    "    dataloader = DataLoader(\n",
    "        dataset,\n",
    "        batch_size,\n",
    "        sampler=sampler,\n",
    "        pin_memory=True\n",
    "    )\n",
    "    return dataloader"
   ]
  },
  {
   "cell_type": "code",
   "execution_count": 43,
   "metadata": {},
   "outputs": [],
   "source": [
    "# Get Weighted Sampler to assign weights to each sample based on class frequency\n",
    "def get_sampler(dataset):\n",
    "    labels = [sample[2] for sample in dataset.samples]\n",
    "    class_counts = np.bincount(labels)\n",
    "    class_weights = 10.0 / class_counts\n",
    "    \n",
    "    print(class_weights)\n",
    "    \n",
    "    sample_weights = [class_weights[label] for label in labels]\n",
    "    sampler = WeightedRandomSampler(sample_weights, num_samples=len(sample_weights), replacement=True)\n",
    "    return sampler"
   ]
  },
  {
   "cell_type": "code",
   "execution_count": 44,
   "metadata": {},
   "outputs": [],
   "source": [
    "BATCH_SIZE=16\n",
    "\n",
    "img_transform = transforms.Compose([\n",
    "    transforms.RandomResizedCrop(224, scale=(0.8, 1.2)),\n",
    "    transforms.RandomRotation(degrees=20),\n",
    "    transforms.RandomPerspective(distortion_scale=0.3, p=0.5),\n",
    "    transforms.ColorJitter(brightness=0.2, contrast=0.2),\n",
    "    transforms.ToTensor(),\n",
    "    transforms.Normalize(mean=[0.485,0.456,0.406], std=[0.229,0.224,0.225])\n",
    "    \n",
    "])\n",
    "\n",
    "test_transform = transforms.Compose([\n",
    "    transforms.Resize((224,224)),\n",
    "    transforms.ToTensor(),\n",
    "])\n",
    "\n",
    "train_dataset = TripletDataset(TRAIN_DIR, transform=img_transform)\n",
    "test_dataset = DefectDataset(TEST_DIR, transform=test_transform)\n",
    "\n",
    "train_dataloader = create_dataloader(train_dataset, batch_size=BATCH_SIZE)\n",
    "test_dataloader = DataLoader(test_dataset, shuffle=True, batch_size=BATCH_SIZE)"
   ]
  },
  {
   "cell_type": "code",
   "execution_count": 45,
   "metadata": {},
   "outputs": [],
   "source": [
    "def show_img(tensor):\n",
    "    img = tensor.permute(1,2,0)\n",
    "    plt.imshow(img)\n"
   ]
  },
  {
   "cell_type": "markdown",
   "metadata": {},
   "source": [
    "## Configuring ResNet"
   ]
  },
  {
   "cell_type": "code",
   "execution_count": 46,
   "metadata": {},
   "outputs": [],
   "source": [
    "import torchvision.models as models\n",
    "from torch import nn\n",
    "import torch.nn.functional as F"
   ]
  },
  {
   "cell_type": "code",
   "execution_count": 47,
   "metadata": {},
   "outputs": [],
   "source": [
    "resnet = models.resnet50(pretrained=True)\n",
    "\n",
    "for param in resnet.parameters():\n",
    "    param.requires_grad = False\n"
   ]
  },
  {
   "cell_type": "code",
   "execution_count": null,
   "metadata": {},
   "outputs": [],
   "source": [
    "class TripletLoss(nn.Module):\n",
    "    def __init__(self, margin=1.0):\n",
    "        super(TripletLoss, self).__init__()\n",
    "        self.margin = margin\n",
    "    \n",
    "    def forward(self, anchor, positive, negative):\n",
    "        anchor = anchor.unsqueeze(0)\n",
    "        positive = positive.unsqueeze(0)\n",
    "        negative = negative.unsqueeze(0)\n",
    "        \n",
    "        pos_dist = t.norm(anchor - positive, p=2)\n",
    "        neg_dist = t.norm(anchor - negative, p=2)\n",
    "        loss += t.clamp(pos_dist - neg_dist + self.margin, min=0)\n",
    "        \n",
    "        return self.loss_fn(anchor, positive, negative)"
   ]
  },
  {
   "cell_type": "code",
   "execution_count": null,
   "metadata": {},
   "outputs": [],
   "source": []
  },
  {
   "cell_type": "code",
   "execution_count": 81,
   "metadata": {},
   "outputs": [],
   "source": [
    "class DefectDetector(nn.Module):\n",
    "    def __init__(self, backbone, embedding_dim=512, freeze_backbone=True):\n",
    "        super(DefectDetector, self).__init__()\n",
    "        \n",
    "        self.backbone = backbone(pretrained=True)\n",
    "        \n",
    "        if freeze_backbone:\n",
    "            for param in list(self.backbone.parameters())[:-10]:\n",
    "                param.requires_grad = False\n",
    "        \n",
    "        in_features = self.backbone.fc.in_features\n",
    "        self.backbone.fc = nn.Identity()\n",
    "\n",
    "        self.embeddings = nn.Sequential(\n",
    "            nn.Linear(in_features, 2048),\n",
    "            nn.ReLU(),\n",
    "            nn.BatchNorm1d(2048),\n",
    "            nn.Linear(2048, 2048),\n",
    "            nn.ReLU(),\n",
    "            nn.BatchNorm1d(2048),\n",
    "            nn.Linear(2048, 512)\n",
    "        )\n",
    "\n",
    "    def batch_forward(self, x):\n",
    "        logits = self.backbone(x)\n",
    "        embeds = F.normalize(self.embeddings(logits), p=2, dim=1)\n",
    "        return embeds\n",
    "\n",
    "    def forward(self, anchor, positive, negative):\n",
    "        anchor_feat = self.backbone(anchor)\n",
    "        positive_feat = self.backbone(positive)\n",
    "        negative_feat = self.backbone(negative)\n",
    "\n",
    "        anchor_embed = F.normalize(self.embeddings(anchor_feat), p=2, dim=1)\n",
    "        positive_embed = F.normalize(self.embeddings(positive_feat), p=2, dim=1)\n",
    "        negative_embed = F.normalize(self.embeddings(negative_feat), p=2, dim=1)\n",
    "\n",
    "        return anchor_embed, positive_embed, negative_embed\n",
    "        \n",
    "        \n",
    "\n",
    "    def fit(self, train_dataset, optimizer, lr=0.001, loss_margin=1.0, batch_size=32, epochs=50):\n",
    "        \n",
    "        self.train()\n",
    "        dataloader = DataLoader(train_dataset, batch_size=batch_size, shuffle=True)\n",
    "        \n",
    "        criterion = TripletLoss(margin=loss_margin)\n",
    "        optim = optimizer(self.embeddings.parameters(), weight_decay=1e-4, lr=lr)\n",
    "        \n",
    "        history = {\n",
    "            \"loss\": [],\n",
    "            \"epoch_losses\": []\n",
    "        }\n",
    "        \n",
    "        # for each epoch\n",
    "        for epoch in range(epochs):\n",
    "            running_loss = 0.0\n",
    "            # for each minibatch\n",
    "            optim.zero_grad()\n",
    "            for images, labels, indices in dataloader:\n",
    "                images = images.to(device)\n",
    "                embeddings = self.batch_forward(images)\n",
    "\n",
    "                triplets = get_semi_hard_triplets(embeddings, labels, loss_margin)\n",
    "                if not triplets:\n",
    "                    continue\n",
    "                    \n",
    "                loss = 0\n",
    "                for a, p, n in triplets:\n",
    "                    anchor = embeddings[a].unsqueeze(0)\n",
    "                    positive = embeddings[p].unsqueeze(0)\n",
    "                    negative = embeddings[n].unsqueeze(0)\n",
    "\n",
    "                    pos_dist = t.norm(anchor - positive, p=2)\n",
    "                    neg_dist = t.norm(anchor - negative, p=2)\n",
    "                    loss += t.clamp(pos_dist - neg_dist + loss_margin, min=0)\n",
    "\n",
    "                loss = loss / len(triplets)\n",
    "                loss.backward()\n",
    "                optim.step()\n",
    "                loss_val = loss.item()\n",
    "                running_loss += loss_val\n",
    "                history['loss'].append(loss_val)\n",
    "            print(f\"Epoch [{epoch + 1}/{epochs}]\")\n",
    "            history['epoch_losses'].append(running_loss / len(dataloader))\n",
    "            print(f\"Loss: {running_loss / len(dataloader)}\")\n",
    "        return history\n",
    "\n"
   ]
  },
  {
   "cell_type": "code",
   "execution_count": 82,
   "metadata": {},
   "outputs": [
    {
     "name": "stderr",
     "output_type": "stream",
     "text": [
      "c:\\Users\\aaadi\\anaconda3\\envs\\torch\\Lib\\site-packages\\torchvision\\models\\_utils.py:208: UserWarning: The parameter 'pretrained' is deprecated since 0.13 and may be removed in the future, please use 'weights' instead.\n",
      "  warnings.warn(\n",
      "c:\\Users\\aaadi\\anaconda3\\envs\\torch\\Lib\\site-packages\\torchvision\\models\\_utils.py:223: UserWarning: Arguments other than a weight enum or `None` for 'weights' are deprecated since 0.13 and may be removed in the future. The current behavior is equivalent to passing `weights=ResNet18_Weights.IMAGENET1K_V1`. You can also use `weights=ResNet18_Weights.DEFAULT` to get the most up-to-date weights.\n",
      "  warnings.warn(msg)\n"
     ]
    },
    {
     "data": {
      "text/plain": [
       "DefectDetector(\n",
       "  (backbone): ResNet(\n",
       "    (conv1): Conv2d(3, 64, kernel_size=(7, 7), stride=(2, 2), padding=(3, 3), bias=False)\n",
       "    (bn1): BatchNorm2d(64, eps=1e-05, momentum=0.1, affine=True, track_running_stats=True)\n",
       "    (relu): ReLU(inplace=True)\n",
       "    (maxpool): MaxPool2d(kernel_size=3, stride=2, padding=1, dilation=1, ceil_mode=False)\n",
       "    (layer1): Sequential(\n",
       "      (0): BasicBlock(\n",
       "        (conv1): Conv2d(64, 64, kernel_size=(3, 3), stride=(1, 1), padding=(1, 1), bias=False)\n",
       "        (bn1): BatchNorm2d(64, eps=1e-05, momentum=0.1, affine=True, track_running_stats=True)\n",
       "        (relu): ReLU(inplace=True)\n",
       "        (conv2): Conv2d(64, 64, kernel_size=(3, 3), stride=(1, 1), padding=(1, 1), bias=False)\n",
       "        (bn2): BatchNorm2d(64, eps=1e-05, momentum=0.1, affine=True, track_running_stats=True)\n",
       "      )\n",
       "      (1): BasicBlock(\n",
       "        (conv1): Conv2d(64, 64, kernel_size=(3, 3), stride=(1, 1), padding=(1, 1), bias=False)\n",
       "        (bn1): BatchNorm2d(64, eps=1e-05, momentum=0.1, affine=True, track_running_stats=True)\n",
       "        (relu): ReLU(inplace=True)\n",
       "        (conv2): Conv2d(64, 64, kernel_size=(3, 3), stride=(1, 1), padding=(1, 1), bias=False)\n",
       "        (bn2): BatchNorm2d(64, eps=1e-05, momentum=0.1, affine=True, track_running_stats=True)\n",
       "      )\n",
       "    )\n",
       "    (layer2): Sequential(\n",
       "      (0): BasicBlock(\n",
       "        (conv1): Conv2d(64, 128, kernel_size=(3, 3), stride=(2, 2), padding=(1, 1), bias=False)\n",
       "        (bn1): BatchNorm2d(128, eps=1e-05, momentum=0.1, affine=True, track_running_stats=True)\n",
       "        (relu): ReLU(inplace=True)\n",
       "        (conv2): Conv2d(128, 128, kernel_size=(3, 3), stride=(1, 1), padding=(1, 1), bias=False)\n",
       "        (bn2): BatchNorm2d(128, eps=1e-05, momentum=0.1, affine=True, track_running_stats=True)\n",
       "        (downsample): Sequential(\n",
       "          (0): Conv2d(64, 128, kernel_size=(1, 1), stride=(2, 2), bias=False)\n",
       "          (1): BatchNorm2d(128, eps=1e-05, momentum=0.1, affine=True, track_running_stats=True)\n",
       "        )\n",
       "      )\n",
       "      (1): BasicBlock(\n",
       "        (conv1): Conv2d(128, 128, kernel_size=(3, 3), stride=(1, 1), padding=(1, 1), bias=False)\n",
       "        (bn1): BatchNorm2d(128, eps=1e-05, momentum=0.1, affine=True, track_running_stats=True)\n",
       "        (relu): ReLU(inplace=True)\n",
       "        (conv2): Conv2d(128, 128, kernel_size=(3, 3), stride=(1, 1), padding=(1, 1), bias=False)\n",
       "        (bn2): BatchNorm2d(128, eps=1e-05, momentum=0.1, affine=True, track_running_stats=True)\n",
       "      )\n",
       "    )\n",
       "    (layer3): Sequential(\n",
       "      (0): BasicBlock(\n",
       "        (conv1): Conv2d(128, 256, kernel_size=(3, 3), stride=(2, 2), padding=(1, 1), bias=False)\n",
       "        (bn1): BatchNorm2d(256, eps=1e-05, momentum=0.1, affine=True, track_running_stats=True)\n",
       "        (relu): ReLU(inplace=True)\n",
       "        (conv2): Conv2d(256, 256, kernel_size=(3, 3), stride=(1, 1), padding=(1, 1), bias=False)\n",
       "        (bn2): BatchNorm2d(256, eps=1e-05, momentum=0.1, affine=True, track_running_stats=True)\n",
       "        (downsample): Sequential(\n",
       "          (0): Conv2d(128, 256, kernel_size=(1, 1), stride=(2, 2), bias=False)\n",
       "          (1): BatchNorm2d(256, eps=1e-05, momentum=0.1, affine=True, track_running_stats=True)\n",
       "        )\n",
       "      )\n",
       "      (1): BasicBlock(\n",
       "        (conv1): Conv2d(256, 256, kernel_size=(3, 3), stride=(1, 1), padding=(1, 1), bias=False)\n",
       "        (bn1): BatchNorm2d(256, eps=1e-05, momentum=0.1, affine=True, track_running_stats=True)\n",
       "        (relu): ReLU(inplace=True)\n",
       "        (conv2): Conv2d(256, 256, kernel_size=(3, 3), stride=(1, 1), padding=(1, 1), bias=False)\n",
       "        (bn2): BatchNorm2d(256, eps=1e-05, momentum=0.1, affine=True, track_running_stats=True)\n",
       "      )\n",
       "    )\n",
       "    (layer4): Sequential(\n",
       "      (0): BasicBlock(\n",
       "        (conv1): Conv2d(256, 512, kernel_size=(3, 3), stride=(2, 2), padding=(1, 1), bias=False)\n",
       "        (bn1): BatchNorm2d(512, eps=1e-05, momentum=0.1, affine=True, track_running_stats=True)\n",
       "        (relu): ReLU(inplace=True)\n",
       "        (conv2): Conv2d(512, 512, kernel_size=(3, 3), stride=(1, 1), padding=(1, 1), bias=False)\n",
       "        (bn2): BatchNorm2d(512, eps=1e-05, momentum=0.1, affine=True, track_running_stats=True)\n",
       "        (downsample): Sequential(\n",
       "          (0): Conv2d(256, 512, kernel_size=(1, 1), stride=(2, 2), bias=False)\n",
       "          (1): BatchNorm2d(512, eps=1e-05, momentum=0.1, affine=True, track_running_stats=True)\n",
       "        )\n",
       "      )\n",
       "      (1): BasicBlock(\n",
       "        (conv1): Conv2d(512, 512, kernel_size=(3, 3), stride=(1, 1), padding=(1, 1), bias=False)\n",
       "        (bn1): BatchNorm2d(512, eps=1e-05, momentum=0.1, affine=True, track_running_stats=True)\n",
       "        (relu): ReLU(inplace=True)\n",
       "        (conv2): Conv2d(512, 512, kernel_size=(3, 3), stride=(1, 1), padding=(1, 1), bias=False)\n",
       "        (bn2): BatchNorm2d(512, eps=1e-05, momentum=0.1, affine=True, track_running_stats=True)\n",
       "      )\n",
       "    )\n",
       "    (avgpool): AdaptiveAvgPool2d(output_size=(1, 1))\n",
       "    (fc): Identity()\n",
       "  )\n",
       "  (embeddings): Sequential(\n",
       "    (0): Linear(in_features=512, out_features=2048, bias=True)\n",
       "    (1): ReLU()\n",
       "    (2): BatchNorm1d(2048, eps=1e-05, momentum=0.1, affine=True, track_running_stats=True)\n",
       "    (3): Linear(in_features=2048, out_features=2048, bias=True)\n",
       "    (4): ReLU()\n",
       "    (5): BatchNorm1d(2048, eps=1e-05, momentum=0.1, affine=True, track_running_stats=True)\n",
       "    (6): Linear(in_features=2048, out_features=512, bias=True)\n",
       "  )\n",
       ")"
      ]
     },
     "execution_count": 82,
     "metadata": {},
     "output_type": "execute_result"
    }
   ],
   "source": [
    "model = DefectDetector(backbone=models.resnet18, freeze_backbone=True).to(device)\n",
    "model"
   ]
  },
  {
   "cell_type": "code",
   "execution_count": 83,
   "metadata": {},
   "outputs": [
    {
     "name": "stdout",
     "output_type": "stream",
     "text": [
      "Epoch [1/20]\n",
      "Loss: 0.4838563309956903\n"
     ]
    },
    {
     "ename": "KeyboardInterrupt",
     "evalue": "",
     "output_type": "error",
     "traceback": [
      "\u001b[1;31m---------------------------------------------------------------------------\u001b[0m",
      "\u001b[1;31mKeyboardInterrupt\u001b[0m                         Traceback (most recent call last)",
      "Cell \u001b[1;32mIn[83], line 2\u001b[0m\n\u001b[0;32m      1\u001b[0m optim \u001b[38;5;241m=\u001b[39m t\u001b[38;5;241m.\u001b[39moptim\u001b[38;5;241m.\u001b[39mAdamW\n\u001b[1;32m----> 2\u001b[0m history \u001b[38;5;241m=\u001b[39m model\u001b[38;5;241m.\u001b[39mfit(train_dataset, optim, epochs\u001b[38;5;241m=\u001b[39m\u001b[38;5;241m20\u001b[39m, lr\u001b[38;5;241m=\u001b[39m\u001b[38;5;241m0.001\u001b[39m)\n",
      "Cell \u001b[1;32mIn[81], line 64\u001b[0m, in \u001b[0;36mDefectDetector.fit\u001b[1;34m(self, train_dataset, optimizer, lr, loss_margin, batch_size, epochs)\u001b[0m\n\u001b[0;32m     61\u001b[0m images \u001b[38;5;241m=\u001b[39m images\u001b[38;5;241m.\u001b[39mto(device)\n\u001b[0;32m     62\u001b[0m embeddings \u001b[38;5;241m=\u001b[39m \u001b[38;5;28mself\u001b[39m\u001b[38;5;241m.\u001b[39mbatch_forward(images)\n\u001b[1;32m---> 64\u001b[0m triplets \u001b[38;5;241m=\u001b[39m get_semi_hard_triplets(embeddings, labels, loss_margin)\n\u001b[0;32m     65\u001b[0m \u001b[38;5;28;01mif\u001b[39;00m \u001b[38;5;129;01mnot\u001b[39;00m triplets:\n\u001b[0;32m     66\u001b[0m     \u001b[38;5;28;01mcontinue\u001b[39;00m\n",
      "Cell \u001b[1;32mIn[79], line 8\u001b[0m, in \u001b[0;36mget_semi_hard_triplets\u001b[1;34m(embeddings, labels, margin)\u001b[0m\n\u001b[0;32m      5\u001b[0m \u001b[38;5;28;01mfor\u001b[39;00m i \u001b[38;5;129;01min\u001b[39;00m \u001b[38;5;28mrange\u001b[39m(\u001b[38;5;28mlen\u001b[39m(embeddings)):\n\u001b[0;32m      6\u001b[0m     anchor_label \u001b[38;5;241m=\u001b[39m labels[i]\n\u001b[1;32m----> 8\u001b[0m     pos_indices \u001b[38;5;241m=\u001b[39m t\u001b[38;5;241m.\u001b[39mwhere(labels \u001b[38;5;241m==\u001b[39m anchor_label)[\u001b[38;5;241m0\u001b[39m]\u001b[38;5;241m.\u001b[39mto(device)\n\u001b[0;32m      9\u001b[0m     pos_indices \u001b[38;5;241m=\u001b[39m pos_indices[pos_indices \u001b[38;5;241m!=\u001b[39m i]\n\u001b[0;32m     11\u001b[0m     \u001b[38;5;28;01mif\u001b[39;00m \u001b[38;5;28mlen\u001b[39m(pos_indices) \u001b[38;5;241m==\u001b[39m \u001b[38;5;241m0\u001b[39m:\n",
      "\u001b[1;31mKeyboardInterrupt\u001b[0m: "
     ]
    }
   ],
   "source": [
    "optim = t.optim.AdamW\n",
    "history = model.fit(train_dataset, optim, epochs=20, lr=0.001)"
   ]
  },
  {
   "cell_type": "code",
   "execution_count": 75,
   "metadata": {},
   "outputs": [
    {
     "data": {
      "text/plain": [
       "DefectDetector(\n",
       "  (backbone): ResNet(\n",
       "    (conv1): Conv2d(3, 64, kernel_size=(7, 7), stride=(2, 2), padding=(3, 3), bias=False)\n",
       "    (bn1): BatchNorm2d(64, eps=1e-05, momentum=0.1, affine=True, track_running_stats=True)\n",
       "    (relu): ReLU(inplace=True)\n",
       "    (maxpool): MaxPool2d(kernel_size=3, stride=2, padding=1, dilation=1, ceil_mode=False)\n",
       "    (layer1): Sequential(\n",
       "      (0): BasicBlock(\n",
       "        (conv1): Conv2d(64, 64, kernel_size=(3, 3), stride=(1, 1), padding=(1, 1), bias=False)\n",
       "        (bn1): BatchNorm2d(64, eps=1e-05, momentum=0.1, affine=True, track_running_stats=True)\n",
       "        (relu): ReLU(inplace=True)\n",
       "        (conv2): Conv2d(64, 64, kernel_size=(3, 3), stride=(1, 1), padding=(1, 1), bias=False)\n",
       "        (bn2): BatchNorm2d(64, eps=1e-05, momentum=0.1, affine=True, track_running_stats=True)\n",
       "      )\n",
       "      (1): BasicBlock(\n",
       "        (conv1): Conv2d(64, 64, kernel_size=(3, 3), stride=(1, 1), padding=(1, 1), bias=False)\n",
       "        (bn1): BatchNorm2d(64, eps=1e-05, momentum=0.1, affine=True, track_running_stats=True)\n",
       "        (relu): ReLU(inplace=True)\n",
       "        (conv2): Conv2d(64, 64, kernel_size=(3, 3), stride=(1, 1), padding=(1, 1), bias=False)\n",
       "        (bn2): BatchNorm2d(64, eps=1e-05, momentum=0.1, affine=True, track_running_stats=True)\n",
       "      )\n",
       "    )\n",
       "    (layer2): Sequential(\n",
       "      (0): BasicBlock(\n",
       "        (conv1): Conv2d(64, 128, kernel_size=(3, 3), stride=(2, 2), padding=(1, 1), bias=False)\n",
       "        (bn1): BatchNorm2d(128, eps=1e-05, momentum=0.1, affine=True, track_running_stats=True)\n",
       "        (relu): ReLU(inplace=True)\n",
       "        (conv2): Conv2d(128, 128, kernel_size=(3, 3), stride=(1, 1), padding=(1, 1), bias=False)\n",
       "        (bn2): BatchNorm2d(128, eps=1e-05, momentum=0.1, affine=True, track_running_stats=True)\n",
       "        (downsample): Sequential(\n",
       "          (0): Conv2d(64, 128, kernel_size=(1, 1), stride=(2, 2), bias=False)\n",
       "          (1): BatchNorm2d(128, eps=1e-05, momentum=0.1, affine=True, track_running_stats=True)\n",
       "        )\n",
       "      )\n",
       "      (1): BasicBlock(\n",
       "        (conv1): Conv2d(128, 128, kernel_size=(3, 3), stride=(1, 1), padding=(1, 1), bias=False)\n",
       "        (bn1): BatchNorm2d(128, eps=1e-05, momentum=0.1, affine=True, track_running_stats=True)\n",
       "        (relu): ReLU(inplace=True)\n",
       "        (conv2): Conv2d(128, 128, kernel_size=(3, 3), stride=(1, 1), padding=(1, 1), bias=False)\n",
       "        (bn2): BatchNorm2d(128, eps=1e-05, momentum=0.1, affine=True, track_running_stats=True)\n",
       "      )\n",
       "    )\n",
       "    (layer3): Sequential(\n",
       "      (0): BasicBlock(\n",
       "        (conv1): Conv2d(128, 256, kernel_size=(3, 3), stride=(2, 2), padding=(1, 1), bias=False)\n",
       "        (bn1): BatchNorm2d(256, eps=1e-05, momentum=0.1, affine=True, track_running_stats=True)\n",
       "        (relu): ReLU(inplace=True)\n",
       "        (conv2): Conv2d(256, 256, kernel_size=(3, 3), stride=(1, 1), padding=(1, 1), bias=False)\n",
       "        (bn2): BatchNorm2d(256, eps=1e-05, momentum=0.1, affine=True, track_running_stats=True)\n",
       "        (downsample): Sequential(\n",
       "          (0): Conv2d(128, 256, kernel_size=(1, 1), stride=(2, 2), bias=False)\n",
       "          (1): BatchNorm2d(256, eps=1e-05, momentum=0.1, affine=True, track_running_stats=True)\n",
       "        )\n",
       "      )\n",
       "      (1): BasicBlock(\n",
       "        (conv1): Conv2d(256, 256, kernel_size=(3, 3), stride=(1, 1), padding=(1, 1), bias=False)\n",
       "        (bn1): BatchNorm2d(256, eps=1e-05, momentum=0.1, affine=True, track_running_stats=True)\n",
       "        (relu): ReLU(inplace=True)\n",
       "        (conv2): Conv2d(256, 256, kernel_size=(3, 3), stride=(1, 1), padding=(1, 1), bias=False)\n",
       "        (bn2): BatchNorm2d(256, eps=1e-05, momentum=0.1, affine=True, track_running_stats=True)\n",
       "      )\n",
       "    )\n",
       "    (layer4): Sequential(\n",
       "      (0): BasicBlock(\n",
       "        (conv1): Conv2d(256, 512, kernel_size=(3, 3), stride=(2, 2), padding=(1, 1), bias=False)\n",
       "        (bn1): BatchNorm2d(512, eps=1e-05, momentum=0.1, affine=True, track_running_stats=True)\n",
       "        (relu): ReLU(inplace=True)\n",
       "        (conv2): Conv2d(512, 512, kernel_size=(3, 3), stride=(1, 1), padding=(1, 1), bias=False)\n",
       "        (bn2): BatchNorm2d(512, eps=1e-05, momentum=0.1, affine=True, track_running_stats=True)\n",
       "        (downsample): Sequential(\n",
       "          (0): Conv2d(256, 512, kernel_size=(1, 1), stride=(2, 2), bias=False)\n",
       "          (1): BatchNorm2d(512, eps=1e-05, momentum=0.1, affine=True, track_running_stats=True)\n",
       "        )\n",
       "      )\n",
       "      (1): BasicBlock(\n",
       "        (conv1): Conv2d(512, 512, kernel_size=(3, 3), stride=(1, 1), padding=(1, 1), bias=False)\n",
       "        (bn1): BatchNorm2d(512, eps=1e-05, momentum=0.1, affine=True, track_running_stats=True)\n",
       "        (relu): ReLU(inplace=True)\n",
       "        (conv2): Conv2d(512, 512, kernel_size=(3, 3), stride=(1, 1), padding=(1, 1), bias=False)\n",
       "        (bn2): BatchNorm2d(512, eps=1e-05, momentum=0.1, affine=True, track_running_stats=True)\n",
       "      )\n",
       "    )\n",
       "    (avgpool): AdaptiveAvgPool2d(output_size=(1, 1))\n",
       "    (fc): Identity()\n",
       "  )\n",
       "  (embeddings): Linear(in_features=512, out_features=512, bias=True)\n",
       ")"
      ]
     },
     "execution_count": 75,
     "metadata": {},
     "output_type": "execute_result"
    }
   ],
   "source": [
    "model.eval()\n"
   ]
  },
  {
   "cell_type": "code",
   "execution_count": 160,
   "metadata": {},
   "outputs": [],
   "source": [
    "sample = next(iter(train_dataloader))"
   ]
  },
  {
   "cell_type": "code",
   "execution_count": 161,
   "metadata": {},
   "outputs": [
    {
     "data": {
      "text/plain": [
       "tensor([[0.],\n",
       "        [1.],\n",
       "        [0.],\n",
       "        [0.],\n",
       "        [1.],\n",
       "        [0.],\n",
       "        [1.],\n",
       "        [0.],\n",
       "        [0.],\n",
       "        [0.],\n",
       "        [0.],\n",
       "        [0.],\n",
       "        [1.],\n",
       "        [0.],\n",
       "        [0.],\n",
       "        [0.]], device='cuda:0', grad_fn=<RoundBackward0>)"
      ]
     },
     "execution_count": 161,
     "metadata": {},
     "output_type": "execute_result"
    }
   ],
   "source": [
    "predictions = model.forward(sample[0][:25].to(device)).round()\n",
    "predictions"
   ]
  },
  {
   "cell_type": "code",
   "execution_count": 162,
   "metadata": {},
   "outputs": [
    {
     "data": {
      "text/plain": [
       "tensor([1, 0, 1, 1, 0, 1, 0, 1, 1, 1, 1, 1, 0, 1, 1, 1], device='cuda:0',\n",
       "       dtype=torch.int32)"
      ]
     },
     "execution_count": 162,
     "metadata": {},
     "output_type": "execute_result"
    }
   ],
   "source": [
    "(predictions[0] == sample[2][:25].to(device)).int()"
   ]
  },
  {
   "cell_type": "code",
   "execution_count": 80,
   "metadata": {},
   "outputs": [
    {
     "data": {
      "image/png": "[encoded data removed]",
      "text/plain": [
       "<Figure size 640x480 with 1 Axes>"
      ]
     },
     "metadata": {},
     "output_type": "display_data"
    }
   ],
   "source": [
    "plt.figure()\n",
    "plt.plot(np.arange(len(history['epoch_losses'])), history['epoch_losses'])\n",
    "plt.show()"
   ]
  },
  {
   "cell_type": "code",
   "execution_count": 26,
   "metadata": {},
   "outputs": [],
   "source": [
    "from sklearn.metrics import accuracy_score, classification_report, confusion_matrix, ConfusionMatrixDisplay\n",
    "def evaluate(model, test_dataloader, verbose=False):\n",
    "    all_labels = []\n",
    "    all_preds = []\n",
    "\n",
    "    model.eval()\n",
    "    with t.no_grad():\n",
    "        for images, masks, labels in test_dataloader:\n",
    "            images, labels = images.to(device), labels.to(device)\n",
    "            outputs = model(images).round()\n",
    "            preds = outputs.cpu().numpy()\n",
    "            labels = labels.cpu().numpy()\n",
    "\n",
    "            all_labels.extend(labels)\n",
    "            all_preds.extend(preds)\n",
    "\n",
    "            # Compute metrics for each batch\n",
    "            acc = accuracy_score(labels, preds)\n",
    "            if verbose:\n",
    "                print(f\"Batch Accuracy: {acc:.4f}\")\n",
    "                print(classification_report(labels, preds))\n",
    "                cm = confusion_matrix(labels, preds)\n",
    "                disp = ConfusionMatrixDisplay(confusion_matrix=cm)\n",
    "                disp.plot()\n",
    "                plt.show()\n",
    "\n",
    "    # Compute metrics for all data combined\n",
    "    all_labels = np.array(all_labels)\n",
    "    all_preds = np.array(all_preds)\n",
    "    overall_acc = accuracy_score(all_labels, all_preds)\n",
    "    print(f\"Overall Accuracy: {overall_acc:.4f}\")\n",
    "    print(classification_report(all_labels, all_preds))\n",
    "    overall_cm = confusion_matrix(all_labels, all_preds)\n",
    "    overall_disp = ConfusionMatrixDisplay(confusion_matrix=overall_cm)\n",
    "    overall_disp.plot()\n",
    "    plt.show()"
   ]
  },
  {
   "cell_type": "code",
   "execution_count": 39,
   "metadata": {},
   "outputs": [
    {
     "name": "stdout",
     "output_type": "stream",
     "text": [
      "Overall Accuracy: 0.7819\n",
      "              precision    recall  f1-score   support\n",
      "\n",
      "           0       0.94      0.81      0.87       894\n",
      "           1       0.26      0.55      0.35       110\n",
      "\n",
      "    accuracy                           0.78      1004\n",
      "   macro avg       0.60      0.68      0.61      1004\n",
      "weighted avg       0.86      0.78      0.81      1004\n",
      "\n"
     ]
    },
    {
     "data": {
      "image/png": "[encoded data removed]",
      "text/plain": [
       "<Figure size 640x480 with 2 Axes>"
      ]
     },
     "metadata": {},
     "output_type": "display_data"
    }
   ],
   "source": [
    "evaluate(model, test_dataloader)"
   ]
  },
  {
   "cell_type": "code",
   "execution_count": null,
   "metadata": {},
   "outputs": [],
   "source": []
  }
 ],
 "metadata": {
  "kernelspec": {
   "display_name": "torch",
   "language": "python",
   "name": "python3"
  },
  "language_info": {
   "codemirror_mode": {
    "name": "ipython",
    "version": 3
   },
   "file_extension": ".py",
   "mimetype": "text/x-python",
   "name": "python",
   "nbconvert_exporter": "python",
   "pygments_lexer": "ipython3",
   "version": "3.11.8"
  }
 },
 "nbformat": 4,
 "nbformat_minor": 2
}
